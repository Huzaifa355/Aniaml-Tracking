{
 "cells": [
  {
   "cell_type": "code",
   "execution_count": 1,
   "id": "c3a24c18",
   "metadata": {},
   "outputs": [
    {
     "ename": "ValueError",
     "evalue": "File not found: filepath=D:\\iot project\\final_finetuned_model.keras. Please ensure the file is an accessible `.keras` zip file.",
     "output_type": "error",
     "traceback": [
      "\u001b[1;31m---------------------------------------------------------------------------\u001b[0m",
      "\u001b[1;31mValueError\u001b[0m                                Traceback (most recent call last)",
      "Cell \u001b[1;32mIn[1], line 13\u001b[0m\n\u001b[0;32m     10\u001b[0m IMG_H, IMG_W     \u001b[38;5;241m=\u001b[39m \u001b[38;5;241m96\u001b[39m, \u001b[38;5;241m96\u001b[39m\n\u001b[0;32m     12\u001b[0m \u001b[38;5;66;03m# === LOAD TRAINED MODEL ===\u001b[39;00m\n\u001b[1;32m---> 13\u001b[0m model \u001b[38;5;241m=\u001b[39m \u001b[43mtf\u001b[49m\u001b[38;5;241;43m.\u001b[39;49m\u001b[43mkeras\u001b[49m\u001b[38;5;241;43m.\u001b[39;49m\u001b[43mmodels\u001b[49m\u001b[38;5;241;43m.\u001b[39;49m\u001b[43mload_model\u001b[49m\u001b[43m(\u001b[49m\u001b[43mKERAS_MODEL_PATH\u001b[49m\u001b[43m)\u001b[49m\n\u001b[0;32m     15\u001b[0m \u001b[38;5;66;03m# === WRAP MODEL TO ACCEPT UINT8 INPUT ===\u001b[39;00m\n\u001b[0;32m     16\u001b[0m wrapped_model \u001b[38;5;241m=\u001b[39m Sequential([\n\u001b[0;32m     17\u001b[0m     InputLayer(input_shape\u001b[38;5;241m=\u001b[39m(IMG_H, IMG_W, \u001b[38;5;241m3\u001b[39m), dtype\u001b[38;5;241m=\u001b[39mtf\u001b[38;5;241m.\u001b[39muint8),\n\u001b[0;32m     18\u001b[0m     Rescaling(\u001b[38;5;241m1.\u001b[39m\u001b[38;5;241m/\u001b[39m\u001b[38;5;241m255\u001b[39m),\n\u001b[0;32m     19\u001b[0m     model\n\u001b[0;32m     20\u001b[0m ])\n",
      "File \u001b[1;32mc:\\Users\\white\\AppData\\Local\\Programs\\Python\\Python311\\Lib\\site-packages\\keras\\src\\saving\\saving_api.py:200\u001b[0m, in \u001b[0;36mload_model\u001b[1;34m(filepath, custom_objects, compile, safe_mode)\u001b[0m\n\u001b[0;32m    196\u001b[0m     \u001b[38;5;28;01mreturn\u001b[39;00m legacy_h5_format\u001b[38;5;241m.\u001b[39mload_model_from_hdf5(\n\u001b[0;32m    197\u001b[0m         filepath, custom_objects\u001b[38;5;241m=\u001b[39mcustom_objects, \u001b[38;5;28mcompile\u001b[39m\u001b[38;5;241m=\u001b[39m\u001b[38;5;28mcompile\u001b[39m\n\u001b[0;32m    198\u001b[0m     )\n\u001b[0;32m    199\u001b[0m \u001b[38;5;28;01melif\u001b[39;00m \u001b[38;5;28mstr\u001b[39m(filepath)\u001b[38;5;241m.\u001b[39mendswith(\u001b[38;5;124m\"\u001b[39m\u001b[38;5;124m.keras\u001b[39m\u001b[38;5;124m\"\u001b[39m):\n\u001b[1;32m--> 200\u001b[0m     \u001b[38;5;28;01mraise\u001b[39;00m \u001b[38;5;167;01mValueError\u001b[39;00m(\n\u001b[0;32m    201\u001b[0m         \u001b[38;5;124mf\u001b[39m\u001b[38;5;124m\"\u001b[39m\u001b[38;5;124mFile not found: filepath=\u001b[39m\u001b[38;5;132;01m{\u001b[39;00mfilepath\u001b[38;5;132;01m}\u001b[39;00m\u001b[38;5;124m. \u001b[39m\u001b[38;5;124m\"\u001b[39m\n\u001b[0;32m    202\u001b[0m         \u001b[38;5;124m\"\u001b[39m\u001b[38;5;124mPlease ensure the file is an accessible `.keras` \u001b[39m\u001b[38;5;124m\"\u001b[39m\n\u001b[0;32m    203\u001b[0m         \u001b[38;5;124m\"\u001b[39m\u001b[38;5;124mzip file.\u001b[39m\u001b[38;5;124m\"\u001b[39m\n\u001b[0;32m    204\u001b[0m     )\n\u001b[0;32m    205\u001b[0m \u001b[38;5;28;01melse\u001b[39;00m:\n\u001b[0;32m    206\u001b[0m     \u001b[38;5;28;01mraise\u001b[39;00m \u001b[38;5;167;01mValueError\u001b[39;00m(\n\u001b[0;32m    207\u001b[0m         \u001b[38;5;124mf\u001b[39m\u001b[38;5;124m\"\u001b[39m\u001b[38;5;124mFile format not supported: filepath=\u001b[39m\u001b[38;5;132;01m{\u001b[39;00mfilepath\u001b[38;5;132;01m}\u001b[39;00m\u001b[38;5;124m. \u001b[39m\u001b[38;5;124m\"\u001b[39m\n\u001b[0;32m    208\u001b[0m         \u001b[38;5;124m\"\u001b[39m\u001b[38;5;124mKeras 3 only supports V3 `.keras` files and \u001b[39m\u001b[38;5;124m\"\u001b[39m\n\u001b[1;32m   (...)\u001b[0m\n\u001b[0;32m    217\u001b[0m         \u001b[38;5;124m\"\u001b[39m\u001b[38;5;124mmight have a different name).\u001b[39m\u001b[38;5;124m\"\u001b[39m\n\u001b[0;32m    218\u001b[0m     )\n",
      "\u001b[1;31mValueError\u001b[0m: File not found: filepath=D:\\iot project\\final_finetuned_model.keras. Please ensure the file is an accessible `.keras` zip file."
     ]
    }
   ],
   "source": [
    "import tensorflow as tf\n",
    "from tensorflow.keras.layers import InputLayer, Rescaling\n",
    "from tensorflow.keras.models import Sequential\n",
    "import os\n",
    "\n",
    "# === CONFIGURE PATHS ===\n",
    "KERAS_MODEL_PATH = r\"D:\\iot project\\final_finetuned_model.keras\"\n",
    "CALIB_DIR        = r\"D:\\iot project\\train\"\n",
    "OUTPUT_TFLITE    = \"animal_int8.tflite\"\n",
    "IMG_H, IMG_W     = 96, 96\n",
    "\n",
    "# === LOAD TRAINED MODEL ===\n",
    "model = tf.keras.models.load_model(KERAS_MODEL_PATH)\n",
    "\n",
    "# === WRAP MODEL TO ACCEPT UINT8 INPUT ===\n",
    "wrapped_model = Sequential([\n",
    "    InputLayer(input_shape=(IMG_H, IMG_W, 3), dtype=tf.uint8),\n",
    "    Rescaling(1./255),\n",
    "    model\n",
    "])\n",
    "\n",
    "# === COLLECT CALIBRATION DATA ===\n",
    "rep_paths = []\n",
    "for root, _, files in os.walk(CALIB_DIR):\n",
    "    for fname in files:\n",
    "        if fname.lower().endswith((\".jpg\", \".jpeg\", \".png\")):\n",
    "            rep_paths.append(os.path.join(root, fname))\n",
    "\n",
    "print(\"Calibration images found:\", len(rep_paths))\n",
    "if len(rep_paths) == 0:\n",
    "    raise RuntimeError(\"No images found for calibration!\")\n",
    "\n",
    "def representative_dataset_generator():\n",
    "    for img_path in rep_paths[:100]:  # Limit to 100 images for speed\n",
    "        img = tf.io.read_file(img_path)\n",
    "        img = tf.image.decode_image(img, channels=3)\n",
    "        img = tf.image.resize(img, [IMG_H, IMG_W])\n",
    "        img = tf.cast(img, tf.uint8)\n",
    "        img = tf.expand_dims(img, 0)\n",
    "        yield [img]\n",
    "\n",
    "# === CONVERT TO TFLITE INT8 ===\n",
    "converter = tf.lite.TFLiteConverter.from_keras_model(wrapped_model)\n",
    "converter.optimizations = [tf.lite.Optimize.DEFAULT]\n",
    "converter.target_spec.supported_ops = [tf.lite.OpsSet.TFLITE_BUILTINS_INT8]\n",
    "converter.inference_input_type = tf.uint8\n",
    "converter.inference_output_type = tf.uint8\n",
    "converter.representative_dataset = representative_dataset_generator\n",
    "\n",
    "tflite_quant = converter.convert()\n",
    "\n",
    "# === SAVE TFLITE MODEL ===\n",
    "with open(OUTPUT_TFLITE, \"wb\") as f:\n",
    "    f.write(tflite_quant)\n",
    "\n",
    "size_kb = os.path.getsize(OUTPUT_TFLITE) / 1024\n",
    "print(f\"✅ Fully quantized model saved to '{OUTPUT_TFLITE}' ({size_kb:.1f} KB)\")\n"
   ]
  }
 ],
 "metadata": {
  "kernelspec": {
   "display_name": "Python 3",
   "language": "python",
   "name": "python3"
  },
  "language_info": {
   "codemirror_mode": {
    "name": "ipython",
    "version": 3
   },
   "file_extension": ".py",
   "mimetype": "text/x-python",
   "name": "python",
   "nbconvert_exporter": "python",
   "pygments_lexer": "ipython3",
   "version": "3.11.0"
  }
 },
 "nbformat": 4,
 "nbformat_minor": 5
}

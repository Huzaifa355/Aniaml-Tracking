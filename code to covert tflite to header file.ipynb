{
 "cells": [
  {
   "cell_type": "code",
   "execution_count": 3,
   "id": "0cd125ce",
   "metadata": {},
   "outputs": [],
   "source": [
    "# convert_model_to_header.py\n",
    "\n",
    "def convert_model_to_header(tflite_model_path, header_file_path, var_name):\n",
    "    with open(tflite_model_path, \"rb\") as f:\n",
    "        model_data = f.read()\n",
    "\n",
    "    with open(header_file_path, \"w\") as f:\n",
    "        f.write(f\"#ifndef {var_name.upper()}_H_\\n\")\n",
    "        f.write(f\"#define {var_name.upper()}_H_\\n\\n\")\n",
    "        f.write(f\"const unsigned char {var_name}[] = {{\\n\")\n",
    "\n",
    "        for i in range(0, len(model_data), 12):\n",
    "            line = \", \".join(f\"0x{b:02x}\" for b in model_data[i:i+12])\n",
    "            f.write(\"  \" + line + \",\\n\")\n",
    "\n",
    "        f.write(f\"}};\\n\\n\")\n",
    "        f.write(f\"const unsigned int {var_name}_len = {len(model_data)};\\n\\n\")\n",
    "        f.write(f\"#endif  // {var_name.upper()}_H_\\n\")\n",
    "\n",
    "# Example usage:\n",
    "convert_model_to_header(r\"D:\\iot project\\mobilenetv1_quant.tflite\", \"animal_model_data.h\", \"animal_model_data\")\n"
   ]
  }
 ],
 "metadata": {
  "kernelspec": {
   "display_name": "Python 3",
   "language": "python",
   "name": "python3"
  },
  "language_info": {
   "codemirror_mode": {
    "name": "ipython",
    "version": 3
   },
   "file_extension": ".py",
   "mimetype": "text/x-python",
   "name": "python",
   "nbconvert_exporter": "python",
   "pygments_lexer": "ipython3",
   "version": "3.11.0"
  }
 },
 "nbformat": 4,
 "nbformat_minor": 5
}

{
 "cells": [
  {
   "cell_type": "code",
   "execution_count": 2,
   "id": "9b8e0751",
   "metadata": {},
   "outputs": [
    {
     "name": "stdout",
     "output_type": "stream",
     "text": [
      "All images resized.\n"
     ]
    }
   ],
   "source": [
    "import os\n",
    "from PIL import Image\n",
    "\n",
    "source_dir = r'D:\\iot project\\Hens dataset'\n",
    "dest_dir = r'D:\\iot project\\Hen'\n",
    "\n",
    "IMG_SIZE = (96, 96)\n",
    "\n",
    "os.makedirs(dest_dir, exist_ok=True)\n",
    "\n",
    "for img_name in os.listdir(source_dir):\n",
    "    img_src_path = os.path.join(source_dir, img_name)\n",
    "    img_dest_path = os.path.join(dest_dir, img_name)\n",
    "\n",
    "    try:\n",
    "        with Image.open(img_src_path) as img:\n",
    "            img = img.convert('RGB')\n",
    "            img_resized = img.resize(IMG_SIZE, Image.Resampling.LANCZOS)\n",
    "            img_resized.save(img_dest_path)\n",
    "    except Exception as e:\n",
    "        print(f\"Skipping {img_src_path}: {e}\")\n",
    "\n",
    "print(\"All images resized.\")\n"
   ]
  }
 ],
 "metadata": {
  "kernelspec": {
   "display_name": "Python 3",
   "language": "python",
   "name": "python3"
  },
  "language_info": {
   "codemirror_mode": {
    "name": "ipython",
    "version": 3
   },
   "file_extension": ".py",
   "mimetype": "text/x-python",
   "name": "python",
   "nbconvert_exporter": "python",
   "pygments_lexer": "ipython3",
   "version": "3.11.0"
  }
 },
 "nbformat": 4,
 "nbformat_minor": 5
}

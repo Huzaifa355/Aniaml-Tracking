{
 "cells": [
  {
   "cell_type": "code",
   "execution_count": 8,
   "id": "8d3db2dd",
   "metadata": {},
   "outputs": [
    {
     "name": "stdout",
     "output_type": "stream",
     "text": [
      "Processed 50 images.\n",
      "Resized images saved to: D:\\iot project\\Animal_Dataset\\resize horse\n",
      "Numpy arrays saved to: D:\\iot project\\Animal_Dataset\\np horse\n"
     ]
    }
   ],
   "source": [
    "import os\n",
    "from PIL import Image\n",
    "import numpy as np\n",
    "\n",
    "# Input directory (your raw images)\n",
    "input_dir = r'D:\\iot project\\Animal_Dataset\\horse'\n",
    "\n",
    "# Output directories\n",
    "resized_img_dir = r'D:\\iot project\\Animal_Dataset\\resize horse'\n",
    "npy_output_dir = r'D:\\iot project\\Animal_Dataset\\np horse'\n",
    "\n",
    "# Resize target size\n",
    "target_size = (128, 128)\n",
    "\n",
    "# Create output folders if they don't exist\n",
    "os.makedirs(resized_img_dir, exist_ok=True)\n",
    "os.makedirs(npy_output_dir, exist_ok=True)\n",
    "\n",
    "# Counter for renaming files numerically\n",
    "counter = 1\n",
    "\n",
    "# Loop through and process images\n",
    "for filename in os.listdir(input_dir):\n",
    "    if filename.lower().endswith(('.png', '.jpg', '.jpeg', '.bmp')):\n",
    "        img_path = os.path.join(input_dir, filename)\n",
    "\n",
    "        # Open and process image\n",
    "        img = Image.open(img_path).convert('L')  # Grayscale\n",
    "        img_resized = img.resize(target_size)\n",
    "\n",
    "        # New filename: 1.jpg, 2.jpg, etc.\n",
    "        new_name = f\"{counter}.jpg\"\n",
    "\n",
    "        # Save resized image\n",
    "        img_resized.save(os.path.join(resized_img_dir, new_name))\n",
    "\n",
    "        # Save corresponding .npy array\n",
    "        img_array = np.array(img_resized, dtype=np.float32) / 255.0\n",
    "        np.save(os.path.join(npy_output_dir, f\"{counter}.npy\"), img_array)\n",
    "\n",
    "        counter += 1\n",
    "\n",
    "print(f\"Processed {counter - 1} images.\")\n",
    "print(f\"Resized images saved to: {resized_img_dir}\")\n",
    "print(f\"Numpy arrays saved to: {npy_output_dir}\")\n"
   ]
  },
  {
   "cell_type": "code",
   "execution_count": 6,
   "id": "587b7333",
   "metadata": {},
   "outputs": [
    {
     "name": "stdout",
     "output_type": "stream",
     "text": [
      "Found 50 valid image files.\n"
     ]
    }
   ],
   "source": [
    "import os\n",
    "\n",
    "input_dir = r'D:\\iot project\\Animal_Dataset\\goat'\n",
    "valid_extensions = ('.png', '.jpg', '.jpeg', '.bmp')\n",
    "\n",
    "num_images = sum(1 for f in os.listdir(input_dir) if f.lower().endswith(valid_extensions))\n",
    "print(f\"Found {num_images} valid image files.\")\n"
   ]
  }
 ],
 "metadata": {
  "kernelspec": {
   "display_name": "Python 3",
   "language": "python",
   "name": "python3"
  },
  "language_info": {
   "codemirror_mode": {
    "name": "ipython",
    "version": 3
   },
   "file_extension": ".py",
   "mimetype": "text/x-python",
   "name": "python",
   "nbconvert_exporter": "python",
   "pygments_lexer": "ipython3",
   "version": "3.11.0"
  }
 },
 "nbformat": 4,
 "nbformat_minor": 5
}
